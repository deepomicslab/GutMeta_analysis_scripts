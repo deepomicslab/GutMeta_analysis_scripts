{
 "cells": [
  {
   "cell_type": "code",
   "execution_count": 23,
   "metadata": {},
   "outputs": [],
   "source": [
    "import os\n",
    "import sys\n",
    "import pandas as pd\n",
    "\n",
    "groupid = 'phenotype'\n",
    "method = 'wilcox.test'\n",
    "group_file = 'merged_input.group_info.tsv'\n",
    "group = pd.read_csv(group_file, sep='\\t', index_col=0)\n",
    "phenos_df = pd.read_csv('merged_input.group_info.tsv', sep='\\t', index_col=0, header=0)\n",
    "phenos = list(set(phenos_df[groupid]))\n",
    "g1 = phenos[0]\n",
    "g2 = phenos[1]\n",
    "\n",
    "col_rename = {\n",
    "    'mean({})'.format(g1): 'g1_mean',\n",
    "    'mean({})'.format(g2): 'g2_mean',\n",
    "    'sd({})'.format(g1): 'g1_variance',\n",
    "    'sd({})'.format(g2): 'g2_variance',\n",
    "    'occ-rate({})'.format(g1): 'g1_occ',\n",
    "    'occ-rate({})'.format(g2): 'g2_occ',\n",
    "    'occ-n({})'.format(g1): 'g1_n',\n",
    "    'occ-n({})'.format(g2): 'g2_n',\n",
    "    'pvalue': 'p_value',\n",
    "    'qvalue': 'p_adj',\n",
    "}\n",
    "taxonomy_fullname = 'kingdom/phylum/class/order/family/genus/species'\n",
    "fullname_dict = {}\n",
    "for t in taxonomy_fullname.split('/'):\n",
    "    fullname_dict[t[0]] = t\n",
    "\n",
    "p_df_new = pd.DataFrame(columns=(['taxonomy_level', 'group1', 'group2']+list(col_rename.values())+['g1/g2', 'enriched']))\n",
    "p_pass_df_new = pd.DataFrame(columns=(['taxonomy_level', 'group1', 'group2']+list(col_rename.values())+['g1/g2', 'enriched']))\n",
    "abd_df_pass_new = pd.DataFrame(columns=phenos_df.index)\n",
    "for tax, tax_fullname in fullname_dict.items():\n",
    "    output_p = 'output.diff_testing.'+ method + '.' + tax + '.stat.tsv'\n",
    "    output_pass_a = 'output.diff_testing.'+ method + '.' + tax + '.abd.pass.tsv'\n",
    "    abd_df_pass = pd.read_csv(output_pass_a, sep='\\t', index_col=0)\n",
    "    p_df = pd.read_csv(output_p, sep='\\t', index_col=0)\n",
    "    p_df.rename(columns=col_rename, inplace=True)\n",
    "    p_df['taxonomy_level'] = tax_fullname\n",
    "    p_df['g1/g2'] = p_df['g1_mean']/p_df['g2_mean']\n",
    "    p_df['g1_variance'] = p_df['g1_variance']**2\n",
    "    p_df['g2_variance'] = p_df['g2_variance']**2\n",
    "    p_df['group1'] = g1\n",
    "    p_df['group2'] = g2\n",
    "    for t in p_df.index:\n",
    "        p_df_new.loc[t, :] = p_df.loc[t, list(p_df_new.columns)]\n",
    "        if t in abd_df_pass.index:\n",
    "            p_pass_df_new.loc[t, :] = p_df_new.loc[t, :]\n",
    "            abd_df_pass_new.loc[t, ] = abd_df_pass.loc[t, abd_df_pass.columns]\n",
    "p_df_new.to_csv('output.diff_testing.'+ method + '.tsv', sep='\\t')\n",
    "p_pass_df_new.to_csv('output.diff_testing.'+ method + '.pass.tsv', sep='\\t')\n",
    "abd_df_pass_new.to_csv('output.diff_testing.'+ method + '.pass.abundance.tsv', sep='\\t')\n",
    "    \n",
    "    "
   ]
  },
  {
   "cell_type": "code",
   "execution_count": null,
   "metadata": {},
   "outputs": [],
   "source": []
  }
 ],
 "metadata": {
  "kernelspec": {
   "display_name": "base",
   "language": "python",
   "name": "python3"
  },
  "language_info": {
   "codemirror_mode": {
    "name": "ipython",
    "version": 3
   },
   "file_extension": ".py",
   "mimetype": "text/x-python",
   "name": "python",
   "nbconvert_exporter": "python",
   "pygments_lexer": "ipython3",
   "version": "3.8.5"
  }
 },
 "nbformat": 4,
 "nbformat_minor": 2
}
