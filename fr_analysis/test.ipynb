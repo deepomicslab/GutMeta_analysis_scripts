{
 "cells": [
  {
   "cell_type": "code",
   "execution_count": 6,
   "metadata": {},
   "outputs": [],
   "source": [
    "import pandas as pd\n",
    "import os\n",
    "import numpy as np\n",
    "from scipy.spatial.distance import pdist, squareform\n",
    "\n",
    "abd_path = '../../ERP10700.bracken.mpa/ERR912196.bracken.report.mpa.txt'\n",
    "idir = '.'\n",
    "abd = pd.read_csv(abd_path, sep='\\t', header=None, index_col=0)\n",
    "level = 's'\n",
    "take_sp_list = []\n",
    "rename_dict = {}\n",
    "for idx in abd.index:\n",
    "    last_l = idx.split('|')[-1]\n",
    "    if last_l[0] == level:\n",
    "        take_sp_list.append(idx)\n",
    "        rename_dict[idx] = last_l\n",
    "abd = abd.loc[take_sp_list, ]\n",
    "abd.rename(index=rename_dict, inplace=True)\n",
    "abd = abd.div(abd.sum(axis=0))\n"
   ]
  },
  {
   "cell_type": "code",
   "execution_count": 1,
   "metadata": {},
   "outputs": [],
   "source": [
    "def make_d(GCN_path, sep='\\t'):\n",
    "    ref_GCN= pd.read_csv(GCN_path, sep=sep, index_col=0, header=0)\n",
    "    ref_GCN = ref_GCN.T\n",
    "    sp_list = list(ref_GCN.columns)\n",
    "    distance_compressed = pdist(ref_GCN.values.T, Jaccard_distance)\n",
    "    distance_matrix = squareform(distance_compressed)\n",
    "    distance_df = pd.DataFrame(distance_matrix, columns = sp_list, index = sp_list)\n",
    "    return distance_df\n",
    "\n",
    "\n",
    "def nfr(d_df, profile):\n",
    "    sp_list = list(set(list(profile.index)).intersection(set(list(d_df.index))))\n",
    "    n = len(sp_list)\n",
    "    corr = np.ones(shape=(n, n)) - d_df.loc[sp_list, sp_list].values\n",
    "    np.fill_diagonal(corr, 0)\n",
    "    a = np.array(profile.loc[sp_list, 1])\n",
    "    inter_matrix = np.dot(a.reshape(len(a), 1),a.reshape(1, len(a)))\n",
    "    np.fill_diagonal(inter_matrix, 0)\n",
    "    td = np.sum(inter_matrix)/2\n",
    "    fr = np.sum(np.multiply(inter_matrix, corr))/2\n",
    "    fr_df = pd.DataFrame(np.multiply(inter_matrix, corr), index=sp_list, columns=sp_list)\n",
    "    profile = profile.loc[sp_list, 1]\n",
    "    if td == 0:\n",
    "        return 0\n",
    "    return fr/td, fr_df, profile"
   ]
  },
  {
   "cell_type": "code",
   "execution_count": 2,
   "metadata": {},
   "outputs": [
    {
     "ename": "NameError",
     "evalue": "name 'pd' is not defined",
     "output_type": "error",
     "traceback": [
      "\u001b[1;31m---------------------------------------------------------------------------\u001b[0m",
      "\u001b[1;31mNameError\u001b[0m                                 Traceback (most recent call last)",
      "\u001b[1;32m<ipython-input-2-01c7dff579f8>\u001b[0m in \u001b[0;36m<module>\u001b[1;34m\u001b[0m\n\u001b[0;32m      1\u001b[0m \u001b[0mGCN_path\u001b[0m \u001b[1;33m=\u001b[0m \u001b[1;34m'GCN_s.tsv'\u001b[0m\u001b[1;33m\u001b[0m\u001b[1;33m\u001b[0m\u001b[0m\n\u001b[0;32m      2\u001b[0m \u001b[1;33m\u001b[0m\u001b[0m\n\u001b[1;32m----> 3\u001b[1;33m \u001b[0mref_GCN\u001b[0m\u001b[1;33m=\u001b[0m \u001b[0mpd\u001b[0m\u001b[1;33m.\u001b[0m\u001b[0mread_csv\u001b[0m\u001b[1;33m(\u001b[0m\u001b[0mGCN_path\u001b[0m\u001b[1;33m,\u001b[0m \u001b[0msep\u001b[0m\u001b[1;33m=\u001b[0m\u001b[1;34m'\\t'\u001b[0m\u001b[1;33m,\u001b[0m \u001b[0mindex_col\u001b[0m\u001b[1;33m=\u001b[0m\u001b[1;36m0\u001b[0m\u001b[1;33m,\u001b[0m \u001b[0mheader\u001b[0m\u001b[1;33m=\u001b[0m\u001b[1;36m0\u001b[0m\u001b[1;33m)\u001b[0m\u001b[1;33m\u001b[0m\u001b[1;33m\u001b[0m\u001b[0m\n\u001b[0m\u001b[0;32m      4\u001b[0m \u001b[0mref_GCN\u001b[0m \u001b[1;33m=\u001b[0m \u001b[0mref_GCN\u001b[0m\u001b[1;33m.\u001b[0m\u001b[0mT\u001b[0m\u001b[1;33m\u001b[0m\u001b[1;33m\u001b[0m\u001b[0m\n\u001b[0;32m      5\u001b[0m \u001b[0mref_GCN\u001b[0m\u001b[1;33m\u001b[0m\u001b[1;33m\u001b[0m\u001b[0m\n",
      "\u001b[1;31mNameError\u001b[0m: name 'pd' is not defined"
     ]
    }
   ],
   "source": [
    "GCN_path = 'GCN_s.tsv'\n",
    "\n",
    "ref_GCN= pd.read_csv(GCN_path, sep='\\t', index_col=0, header=0)\n",
    "ref_GCN = ref_GCN.T\n",
    "ref_GCN"
   ]
  },
  {
   "cell_type": "code",
   "execution_count": 3,
   "metadata": {},
   "outputs": [],
   "source": [
    "def Jaccard_distance(x, y):\n",
    "    union = sum(np.maximum(x, y))\n",
    "    intersection = sum(np.minimum(x, y))\n",
    "    # print(intersection, union)\n",
    "    if union != 0:\n",
    "        return 1 - intersection/union\n",
    "    else:\n",
    "        # print(\"union size is 0\")\n",
    "        return 1\n"
   ]
  },
  {
   "cell_type": "code",
   "execution_count": 13,
   "metadata": {},
   "outputs": [],
   "source": [
    "sp_list = list(ref_GCN.columns)\n",
    "distance_compressed = pdist(ref_GCN.values.T, Jaccard_distance)\n",
    "distance_matrix = squareform(distance_compressed)\n",
    "distance_df = pd.DataFrame(distance_matrix, columns = sp_list, index = sp_list)\n"
   ]
  },
  {
   "cell_type": "code",
   "execution_count": 7,
   "metadata": {},
   "outputs": [
    {
     "data": {
      "text/plain": [
       "\"\\nrename_dict = {}\\nfor idx in distance_df.index:\\n    rename_dict[idx] = idx.replace(' ', '_')\\ndistance_df.rename(index=rename_dict, columns=rename_dict, inplace=True)\\n\\nd_df = distance_df.to_csv(GCN_d_path, sep='\\t', index=True, header=True)\\n\""
      ]
     },
     "execution_count": 7,
     "metadata": {},
     "output_type": "execute_result"
    }
   ],
   "source": [
    "GCN_d_path = 'sp_d.tsv'\n",
    "'''\n",
    "rename_dict = {}\n",
    "for idx in distance_df.index:\n",
    "    rename_dict[idx] = idx.replace(' ', '_')\n",
    "distance_df.rename(index=rename_dict, columns=rename_dict, inplace=True)\n",
    "\n",
    "d_df = distance_df.to_csv(GCN_d_path, sep='\\t', index=True, header=True)\n",
    "'''\n"
   ]
  },
  {
   "cell_type": "code",
   "execution_count": 8,
   "metadata": {},
   "outputs": [],
   "source": [
    "\n",
    "d_df = pd.read_csv(GCN_d_path, sep='\\t', index_col=0, header=0)\n",
    "\n",
    "nfr, fr_df, profile = nfr(d_df, abd)\n"
   ]
  },
  {
   "cell_type": "code",
   "execution_count": 29,
   "metadata": {},
   "outputs": [],
   "source": [
    "profile.to_csv(os.path.join(idir, 'abd.tsv'), sep='\\t', header=False, index=True)\n",
    "with open(os.path.join(idir, 'nfr.txt'), 'w') as f:\n",
    "    f.write(str(nfr))\n",
    "fr_df.to_csv(os.path.join(idir, 'net_df.tsv'), sep='\\t', header=True, index=True)"
   ]
  },
  {
   "cell_type": "code",
   "execution_count": 34,
   "metadata": {},
   "outputs": [],
   "source": [
    "edge_df = fr_df.stack().reset_index()\n"
   ]
  },
  {
   "cell_type": "code",
   "execution_count": 35,
   "metadata": {},
   "outputs": [
    {
     "data": {
      "text/html": [
       "<div>\n",
       "<style scoped>\n",
       "    .dataframe tbody tr th:only-of-type {\n",
       "        vertical-align: middle;\n",
       "    }\n",
       "\n",
       "    .dataframe tbody tr th {\n",
       "        vertical-align: top;\n",
       "    }\n",
       "\n",
       "    .dataframe thead th {\n",
       "        text-align: right;\n",
       "    }\n",
       "</style>\n",
       "<table border=\"1\" class=\"dataframe\">\n",
       "  <thead>\n",
       "    <tr style=\"text-align: right;\">\n",
       "      <th></th>\n",
       "      <th>level_0</th>\n",
       "      <th>level_1</th>\n",
       "      <th>0</th>\n",
       "    </tr>\n",
       "  </thead>\n",
       "  <tbody>\n",
       "    <tr>\n",
       "      <th>0</th>\n",
       "      <td>s__Collinsella_sp900768795</td>\n",
       "      <td>s__Collinsella_sp900768795</td>\n",
       "      <td>0.000000e+00</td>\n",
       "    </tr>\n",
       "    <tr>\n",
       "      <th>1</th>\n",
       "      <td>s__Collinsella_sp900768795</td>\n",
       "      <td>s__Eubacterium_R_sp900767025</td>\n",
       "      <td>1.232303e-12</td>\n",
       "    </tr>\n",
       "    <tr>\n",
       "      <th>2</th>\n",
       "      <td>s__Collinsella_sp900768795</td>\n",
       "      <td>s__Christensenella_timonensis</td>\n",
       "      <td>4.802477e-12</td>\n",
       "    </tr>\n",
       "    <tr>\n",
       "      <th>3</th>\n",
       "      <td>s__Collinsella_sp900768795</td>\n",
       "      <td>s__Alistipes_sp900021155</td>\n",
       "      <td>6.815499e-11</td>\n",
       "    </tr>\n",
       "    <tr>\n",
       "      <th>4</th>\n",
       "      <td>s__Collinsella_sp900768795</td>\n",
       "      <td>s__Akkermansia_sp001580195</td>\n",
       "      <td>5.170685e-13</td>\n",
       "    </tr>\n",
       "    <tr>\n",
       "      <th>...</th>\n",
       "      <td>...</td>\n",
       "      <td>...</td>\n",
       "      <td>...</td>\n",
       "    </tr>\n",
       "    <tr>\n",
       "      <th>8886356</th>\n",
       "      <td>s__Providencia_stuartii</td>\n",
       "      <td>s__Prevotella_sp000436595</td>\n",
       "      <td>1.533235e-11</td>\n",
       "    </tr>\n",
       "    <tr>\n",
       "      <th>8886357</th>\n",
       "      <td>s__Providencia_stuartii</td>\n",
       "      <td>s__Bilophila_wadsworthia</td>\n",
       "      <td>6.336325e-10</td>\n",
       "    </tr>\n",
       "    <tr>\n",
       "      <th>8886358</th>\n",
       "      <td>s__Providencia_stuartii</td>\n",
       "      <td>s__Eggerthella_lenta</td>\n",
       "      <td>1.983817e-12</td>\n",
       "    </tr>\n",
       "    <tr>\n",
       "      <th>8886359</th>\n",
       "      <td>s__Providencia_stuartii</td>\n",
       "      <td>s__Gemmiger_variabilis_B</td>\n",
       "      <td>6.468064e-12</td>\n",
       "    </tr>\n",
       "    <tr>\n",
       "      <th>8886360</th>\n",
       "      <td>s__Providencia_stuartii</td>\n",
       "      <td>s__Providencia_stuartii</td>\n",
       "      <td>0.000000e+00</td>\n",
       "    </tr>\n",
       "  </tbody>\n",
       "</table>\n",
       "<p>8886361 rows × 3 columns</p>\n",
       "</div>"
      ],
      "text/plain": [
       "                            level_0                        level_1  \\\n",
       "0        s__Collinsella_sp900768795     s__Collinsella_sp900768795   \n",
       "1        s__Collinsella_sp900768795   s__Eubacterium_R_sp900767025   \n",
       "2        s__Collinsella_sp900768795  s__Christensenella_timonensis   \n",
       "3        s__Collinsella_sp900768795       s__Alistipes_sp900021155   \n",
       "4        s__Collinsella_sp900768795     s__Akkermansia_sp001580195   \n",
       "...                             ...                            ...   \n",
       "8886356     s__Providencia_stuartii      s__Prevotella_sp000436595   \n",
       "8886357     s__Providencia_stuartii       s__Bilophila_wadsworthia   \n",
       "8886358     s__Providencia_stuartii           s__Eggerthella_lenta   \n",
       "8886359     s__Providencia_stuartii       s__Gemmiger_variabilis_B   \n",
       "8886360     s__Providencia_stuartii        s__Providencia_stuartii   \n",
       "\n",
       "                    0  \n",
       "0        0.000000e+00  \n",
       "1        1.232303e-12  \n",
       "2        4.802477e-12  \n",
       "3        6.815499e-11  \n",
       "4        5.170685e-13  \n",
       "...               ...  \n",
       "8886356  1.533235e-11  \n",
       "8886357  6.336325e-10  \n",
       "8886358  1.983817e-12  \n",
       "8886359  6.468064e-12  \n",
       "8886360  0.000000e+00  \n",
       "\n",
       "[8886361 rows x 3 columns]"
      ]
     },
     "execution_count": 35,
     "metadata": {},
     "output_type": "execute_result"
    }
   ],
   "source": [
    "edge_df"
   ]
  },
  {
   "cell_type": "code",
   "execution_count": 11,
   "metadata": {},
   "outputs": [],
   "source": [
    "row_index, col_index = np.tril_indices(len(fr_df), k=0)\n",
    "\n",
    "# 将下半三角元素设置为 0\n",
    "fr_df.values[row_index, col_index] = 0\n",
    "edge_df = fr_df.stack().reset_index()\n",
    "edge_df = edge_df[edge_df[0] != 0]\n"
   ]
  },
  {
   "cell_type": "code",
   "execution_count": 13,
   "metadata": {},
   "outputs": [],
   "source": [
    "edge_df = edge_df[edge_df[0] != 0]"
   ]
  },
  {
   "cell_type": "code",
   "execution_count": 14,
   "metadata": {},
   "outputs": [
    {
     "data": {
      "text/html": [
       "<div>\n",
       "<style scoped>\n",
       "    .dataframe tbody tr th:only-of-type {\n",
       "        vertical-align: middle;\n",
       "    }\n",
       "\n",
       "    .dataframe tbody tr th {\n",
       "        vertical-align: top;\n",
       "    }\n",
       "\n",
       "    .dataframe thead th {\n",
       "        text-align: right;\n",
       "    }\n",
       "</style>\n",
       "<table border=\"1\" class=\"dataframe\">\n",
       "  <thead>\n",
       "    <tr style=\"text-align: right;\">\n",
       "      <th></th>\n",
       "      <th>level_0</th>\n",
       "      <th>level_1</th>\n",
       "      <th>0</th>\n",
       "    </tr>\n",
       "  </thead>\n",
       "  <tbody>\n",
       "    <tr>\n",
       "      <th>1</th>\n",
       "      <td>s__RUG420_sp900771085</td>\n",
       "      <td>s__Ruminococcus_D_sp000434695</td>\n",
       "      <td>6.285892e-13</td>\n",
       "    </tr>\n",
       "    <tr>\n",
       "      <th>2</th>\n",
       "      <td>s__RUG420_sp900771085</td>\n",
       "      <td>s__CAG-485_sp900766975</td>\n",
       "      <td>1.371256e-13</td>\n",
       "    </tr>\n",
       "    <tr>\n",
       "      <th>3</th>\n",
       "      <td>s__RUG420_sp900771085</td>\n",
       "      <td>s__UMGS1260_sp900550105</td>\n",
       "      <td>4.859765e-14</td>\n",
       "    </tr>\n",
       "    <tr>\n",
       "      <th>4</th>\n",
       "      <td>s__RUG420_sp900771085</td>\n",
       "      <td>s__Collinsella_sp900552875</td>\n",
       "      <td>1.514964e-12</td>\n",
       "    </tr>\n",
       "    <tr>\n",
       "      <th>5</th>\n",
       "      <td>s__RUG420_sp900771085</td>\n",
       "      <td>s__Collinsella_sp900556365</td>\n",
       "      <td>2.583513e-14</td>\n",
       "    </tr>\n",
       "    <tr>\n",
       "      <th>...</th>\n",
       "      <td>...</td>\n",
       "      <td>...</td>\n",
       "      <td>...</td>\n",
       "    </tr>\n",
       "    <tr>\n",
       "      <th>8877416</th>\n",
       "      <td>s__Dysosmobacter_sp900544105</td>\n",
       "      <td>s__Succiniclasticum_sp900544275</td>\n",
       "      <td>1.752448e-09</td>\n",
       "    </tr>\n",
       "    <tr>\n",
       "      <th>8877417</th>\n",
       "      <td>s__Dysosmobacter_sp900544105</td>\n",
       "      <td>s__Prevotella_timonensis</td>\n",
       "      <td>4.009662e-10</td>\n",
       "    </tr>\n",
       "    <tr>\n",
       "      <th>8880397</th>\n",
       "      <td>s__CAG-269_sp900554365</td>\n",
       "      <td>s__Succiniclasticum_sp900544275</td>\n",
       "      <td>1.575452e-11</td>\n",
       "    </tr>\n",
       "    <tr>\n",
       "      <th>8880398</th>\n",
       "      <td>s__CAG-269_sp900554365</td>\n",
       "      <td>s__Prevotella_timonensis</td>\n",
       "      <td>4.297347e-12</td>\n",
       "    </tr>\n",
       "    <tr>\n",
       "      <th>8883379</th>\n",
       "      <td>s__Succiniclasticum_sp900544275</td>\n",
       "      <td>s__Prevotella_timonensis</td>\n",
       "      <td>1.533908e-11</td>\n",
       "    </tr>\n",
       "  </tbody>\n",
       "</table>\n",
       "<p>4441690 rows × 3 columns</p>\n",
       "</div>"
      ],
      "text/plain": [
       "                                 level_0                          level_1  \\\n",
       "1                  s__RUG420_sp900771085    s__Ruminococcus_D_sp000434695   \n",
       "2                  s__RUG420_sp900771085           s__CAG-485_sp900766975   \n",
       "3                  s__RUG420_sp900771085          s__UMGS1260_sp900550105   \n",
       "4                  s__RUG420_sp900771085       s__Collinsella_sp900552875   \n",
       "5                  s__RUG420_sp900771085       s__Collinsella_sp900556365   \n",
       "...                                  ...                              ...   \n",
       "8877416     s__Dysosmobacter_sp900544105  s__Succiniclasticum_sp900544275   \n",
       "8877417     s__Dysosmobacter_sp900544105         s__Prevotella_timonensis   \n",
       "8880397           s__CAG-269_sp900554365  s__Succiniclasticum_sp900544275   \n",
       "8880398           s__CAG-269_sp900554365         s__Prevotella_timonensis   \n",
       "8883379  s__Succiniclasticum_sp900544275         s__Prevotella_timonensis   \n",
       "\n",
       "                    0  \n",
       "1        6.285892e-13  \n",
       "2        1.371256e-13  \n",
       "3        4.859765e-14  \n",
       "4        1.514964e-12  \n",
       "5        2.583513e-14  \n",
       "...               ...  \n",
       "8877416  1.752448e-09  \n",
       "8877417  4.009662e-10  \n",
       "8880397  1.575452e-11  \n",
       "8880398  4.297347e-12  \n",
       "8883379  1.533908e-11  \n",
       "\n",
       "[4441690 rows x 3 columns]"
      ]
     },
     "execution_count": 14,
     "metadata": {},
     "output_type": "execute_result"
    }
   ],
   "source": [
    "edge_df"
   ]
  },
  {
   "cell_type": "code",
   "execution_count": 15,
   "metadata": {},
   "outputs": [
    {
     "data": {
      "text/plain": [
       "4441690.0"
      ]
     },
     "execution_count": 15,
     "metadata": {},
     "output_type": "execute_result"
    }
   ],
   "source": [
    "(fr_df.shape[0]**2 - fr_df.shape[0])/2"
   ]
  },
  {
   "cell_type": "code",
   "execution_count": null,
   "metadata": {},
   "outputs": [],
   "source": []
  }
 ],
 "metadata": {
  "kernelspec": {
   "display_name": "base",
   "language": "python",
   "name": "python3"
  },
  "language_info": {
   "codemirror_mode": {
    "name": "ipython",
    "version": 3
   },
   "file_extension": ".py",
   "mimetype": "text/x-python",
   "name": "python",
   "nbconvert_exporter": "python",
   "pygments_lexer": "ipython3",
   "version": "3.8.5"
  }
 },
 "nbformat": 4,
 "nbformat_minor": 2
}
